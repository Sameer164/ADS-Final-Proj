{
 "cells": [
  {
   "cell_type": "code",
   "execution_count": 242,
   "id": "5e89342d",
   "metadata": {},
   "outputs": [],
   "source": [
    "import pandas as pd\n"
   ]
  },
  {
   "cell_type": "code",
   "execution_count": 243,
   "id": "718395e6",
   "metadata": {},
   "outputs": [],
   "source": [
    "data = pd.read_csv(\"./amazon_prime_titles.csv\")"
   ]
  },
  {
   "cell_type": "code",
   "execution_count": 244,
   "id": "5cd1961c",
   "metadata": {},
   "outputs": [
    {
     "data": {
      "text/plain": [
       "(9668, 12)"
      ]
     },
     "execution_count": 244,
     "metadata": {},
     "output_type": "execute_result"
    }
   ],
   "source": [
    "data.shape"
   ]
  },
  {
   "cell_type": "code",
   "execution_count": 245,
   "id": "87fe6c2b",
   "metadata": {
    "scrolled": false
   },
   "outputs": [
    {
     "data": {
      "text/plain": [
       "0         NaN\n",
       "1         13+\n",
       "2         NaN\n",
       "3         NaN\n",
       "4         NaN\n",
       "        ...  \n",
       "9663       7+\n",
       "9664      13+\n",
       "9665        R\n",
       "9666    TV-MA\n",
       "9667        R\n",
       "Name: rating, Length: 9668, dtype: object"
      ]
     },
     "execution_count": 245,
     "metadata": {},
     "output_type": "execute_result"
    }
   ],
   "source": [
    "data[\"rating\"]"
   ]
  },
  {
   "cell_type": "code",
   "execution_count": 246,
   "id": "40d94b06",
   "metadata": {},
   "outputs": [
    {
     "data": {
      "text/plain": [
       "show_id            0\n",
       "type               0\n",
       "title              0\n",
       "director        2082\n",
       "cast            1233\n",
       "country         8996\n",
       "date_added      9513\n",
       "release_year       0\n",
       "rating           337\n",
       "duration           0\n",
       "listed_in          0\n",
       "description        0\n",
       "dtype: int64"
      ]
     },
     "execution_count": 246,
     "metadata": {},
     "output_type": "execute_result"
    }
   ],
   "source": [
    "data.isnull().sum()"
   ]
  },
  {
   "cell_type": "code",
   "execution_count": 247,
   "id": "342f9be5",
   "metadata": {},
   "outputs": [],
   "source": [
    "import numpy as np"
   ]
  },
  {
   "cell_type": "markdown",
   "id": "eaa222fa",
   "metadata": {},
   "source": [
    "#### My Hypothesis is that most directors only direct similar movies. Similar movies are known from their description and their rating"
   ]
  },
  {
   "cell_type": "code",
   "execution_count": 248,
   "id": "580eec6a",
   "metadata": {},
   "outputs": [],
   "source": [
    "data = data.dropna(subset=['director']).reset_index(drop=True)"
   ]
  },
  {
   "cell_type": "code",
   "execution_count": 249,
   "id": "02388618",
   "metadata": {},
   "outputs": [
    {
     "data": {
      "text/plain": [
       "(7586, 12)"
      ]
     },
     "execution_count": 249,
     "metadata": {},
     "output_type": "execute_result"
    }
   ],
   "source": [
    "data.shape\n"
   ]
  },
  {
   "cell_type": "code",
   "execution_count": 250,
   "id": "dc5aa0bf",
   "metadata": {},
   "outputs": [
    {
     "data": {
      "text/plain": [
       "show_id            0\n",
       "type               0\n",
       "title              0\n",
       "director           0\n",
       "cast             634\n",
       "country         7017\n",
       "date_added      7570\n",
       "release_year       0\n",
       "rating           330\n",
       "duration           0\n",
       "listed_in          0\n",
       "description        0\n",
       "dtype: int64"
      ]
     },
     "execution_count": 250,
     "metadata": {},
     "output_type": "execute_result"
    }
   ],
   "source": [
    "data.isnull().sum()"
   ]
  },
  {
   "cell_type": "code",
   "execution_count": 251,
   "id": "1b1a8e1e",
   "metadata": {},
   "outputs": [],
   "source": [
    "data = data[[\"type\", \"title\", \"director\", \"cast\", \"country\", \"rating\", \"duration\", \"description\"]]"
   ]
  },
  {
   "cell_type": "code",
   "execution_count": 252,
   "id": "f759bf1e",
   "metadata": {},
   "outputs": [
    {
     "data": {
      "text/html": [
       "<div>\n",
       "<style scoped>\n",
       "    .dataframe tbody tr th:only-of-type {\n",
       "        vertical-align: middle;\n",
       "    }\n",
       "\n",
       "    .dataframe tbody tr th {\n",
       "        vertical-align: top;\n",
       "    }\n",
       "\n",
       "    .dataframe thead th {\n",
       "        text-align: right;\n",
       "    }\n",
       "</style>\n",
       "<table border=\"1\" class=\"dataframe\">\n",
       "  <thead>\n",
       "    <tr style=\"text-align: right;\">\n",
       "      <th></th>\n",
       "      <th>type</th>\n",
       "      <th>title</th>\n",
       "      <th>director</th>\n",
       "      <th>cast</th>\n",
       "      <th>country</th>\n",
       "      <th>rating</th>\n",
       "      <th>duration</th>\n",
       "      <th>description</th>\n",
       "    </tr>\n",
       "  </thead>\n",
       "  <tbody>\n",
       "    <tr>\n",
       "      <th>0</th>\n",
       "      <td>Movie</td>\n",
       "      <td>The Grand Seduction</td>\n",
       "      <td>Don McKellar</td>\n",
       "      <td>Brendan Gleeson, Taylor Kitsch, Gordon Pinsent</td>\n",
       "      <td>Canada</td>\n",
       "      <td>NaN</td>\n",
       "      <td>113 min</td>\n",
       "      <td>A small fishing village must procure a local d...</td>\n",
       "    </tr>\n",
       "    <tr>\n",
       "      <th>1</th>\n",
       "      <td>Movie</td>\n",
       "      <td>Take Care Good Night</td>\n",
       "      <td>Girish Joshi</td>\n",
       "      <td>Mahesh Manjrekar, Abhay Mahajan, Sachin Khedekar</td>\n",
       "      <td>India</td>\n",
       "      <td>13+</td>\n",
       "      <td>110 min</td>\n",
       "      <td>A Metro Family decides to fight a Cyber Crimin...</td>\n",
       "    </tr>\n",
       "    <tr>\n",
       "      <th>2</th>\n",
       "      <td>Movie</td>\n",
       "      <td>Secrets of Deception</td>\n",
       "      <td>Josh Webber</td>\n",
       "      <td>Tom Sizemore, Lorenzo Lamas, Robert LaSardo, R...</td>\n",
       "      <td>United States</td>\n",
       "      <td>NaN</td>\n",
       "      <td>74 min</td>\n",
       "      <td>After a man discovers his wife is cheating on ...</td>\n",
       "    </tr>\n",
       "    <tr>\n",
       "      <th>3</th>\n",
       "      <td>Movie</td>\n",
       "      <td>Pink: Staying True</td>\n",
       "      <td>Sonia Anderson</td>\n",
       "      <td>Interviews with: Pink, Adele, Beyoncé, Britney...</td>\n",
       "      <td>United States</td>\n",
       "      <td>NaN</td>\n",
       "      <td>69 min</td>\n",
       "      <td>Pink breaks the mold once again, bringing her ...</td>\n",
       "    </tr>\n",
       "    <tr>\n",
       "      <th>4</th>\n",
       "      <td>Movie</td>\n",
       "      <td>Monster Maker</td>\n",
       "      <td>Giles Foster</td>\n",
       "      <td>Harry Dean Stanton, Kieran O'Brien, George Cos...</td>\n",
       "      <td>United Kingdom</td>\n",
       "      <td>NaN</td>\n",
       "      <td>45 min</td>\n",
       "      <td>Teenage Matt Banting wants to work with a famo...</td>\n",
       "    </tr>\n",
       "  </tbody>\n",
       "</table>\n",
       "</div>"
      ],
      "text/plain": [
       "    type                 title        director  \\\n",
       "0  Movie   The Grand Seduction    Don McKellar   \n",
       "1  Movie  Take Care Good Night    Girish Joshi   \n",
       "2  Movie  Secrets of Deception     Josh Webber   \n",
       "3  Movie    Pink: Staying True  Sonia Anderson   \n",
       "4  Movie         Monster Maker    Giles Foster   \n",
       "\n",
       "                                                cast         country rating  \\\n",
       "0     Brendan Gleeson, Taylor Kitsch, Gordon Pinsent          Canada    NaN   \n",
       "1   Mahesh Manjrekar, Abhay Mahajan, Sachin Khedekar           India    13+   \n",
       "2  Tom Sizemore, Lorenzo Lamas, Robert LaSardo, R...   United States    NaN   \n",
       "3  Interviews with: Pink, Adele, Beyoncé, Britney...   United States    NaN   \n",
       "4  Harry Dean Stanton, Kieran O'Brien, George Cos...  United Kingdom    NaN   \n",
       "\n",
       "  duration                                        description  \n",
       "0  113 min  A small fishing village must procure a local d...  \n",
       "1  110 min  A Metro Family decides to fight a Cyber Crimin...  \n",
       "2   74 min  After a man discovers his wife is cheating on ...  \n",
       "3   69 min  Pink breaks the mold once again, bringing her ...  \n",
       "4   45 min  Teenage Matt Banting wants to work with a famo...  "
      ]
     },
     "execution_count": 252,
     "metadata": {},
     "output_type": "execute_result"
    }
   ],
   "source": [
    "data.head()"
   ]
  },
  {
   "cell_type": "code",
   "execution_count": 253,
   "id": "76b4c4c2",
   "metadata": {},
   "outputs": [],
   "source": [
    "data[\"rating\"].fillna(\"All\", inplace=True)\n"
   ]
  },
  {
   "cell_type": "code",
   "execution_count": 254,
   "id": "69357371",
   "metadata": {},
   "outputs": [
    {
     "data": {
      "text/html": [
       "<div>\n",
       "<style scoped>\n",
       "    .dataframe tbody tr th:only-of-type {\n",
       "        vertical-align: middle;\n",
       "    }\n",
       "\n",
       "    .dataframe tbody tr th {\n",
       "        vertical-align: top;\n",
       "    }\n",
       "\n",
       "    .dataframe thead th {\n",
       "        text-align: right;\n",
       "    }\n",
       "</style>\n",
       "<table border=\"1\" class=\"dataframe\">\n",
       "  <thead>\n",
       "    <tr style=\"text-align: right;\">\n",
       "      <th></th>\n",
       "      <th>type</th>\n",
       "      <th>title</th>\n",
       "      <th>director</th>\n",
       "      <th>cast</th>\n",
       "      <th>country</th>\n",
       "      <th>rating</th>\n",
       "      <th>duration</th>\n",
       "      <th>description</th>\n",
       "    </tr>\n",
       "  </thead>\n",
       "  <tbody>\n",
       "    <tr>\n",
       "      <th>0</th>\n",
       "      <td>Movie</td>\n",
       "      <td>The Grand Seduction</td>\n",
       "      <td>Don McKellar</td>\n",
       "      <td>Brendan Gleeson, Taylor Kitsch, Gordon Pinsent</td>\n",
       "      <td>Canada</td>\n",
       "      <td>All</td>\n",
       "      <td>113 min</td>\n",
       "      <td>A small fishing village must procure a local d...</td>\n",
       "    </tr>\n",
       "    <tr>\n",
       "      <th>1</th>\n",
       "      <td>Movie</td>\n",
       "      <td>Take Care Good Night</td>\n",
       "      <td>Girish Joshi</td>\n",
       "      <td>Mahesh Manjrekar, Abhay Mahajan, Sachin Khedekar</td>\n",
       "      <td>India</td>\n",
       "      <td>13+</td>\n",
       "      <td>110 min</td>\n",
       "      <td>A Metro Family decides to fight a Cyber Crimin...</td>\n",
       "    </tr>\n",
       "    <tr>\n",
       "      <th>2</th>\n",
       "      <td>Movie</td>\n",
       "      <td>Secrets of Deception</td>\n",
       "      <td>Josh Webber</td>\n",
       "      <td>Tom Sizemore, Lorenzo Lamas, Robert LaSardo, R...</td>\n",
       "      <td>United States</td>\n",
       "      <td>All</td>\n",
       "      <td>74 min</td>\n",
       "      <td>After a man discovers his wife is cheating on ...</td>\n",
       "    </tr>\n",
       "    <tr>\n",
       "      <th>3</th>\n",
       "      <td>Movie</td>\n",
       "      <td>Pink: Staying True</td>\n",
       "      <td>Sonia Anderson</td>\n",
       "      <td>Interviews with: Pink, Adele, Beyoncé, Britney...</td>\n",
       "      <td>United States</td>\n",
       "      <td>All</td>\n",
       "      <td>69 min</td>\n",
       "      <td>Pink breaks the mold once again, bringing her ...</td>\n",
       "    </tr>\n",
       "    <tr>\n",
       "      <th>4</th>\n",
       "      <td>Movie</td>\n",
       "      <td>Monster Maker</td>\n",
       "      <td>Giles Foster</td>\n",
       "      <td>Harry Dean Stanton, Kieran O'Brien, George Cos...</td>\n",
       "      <td>United Kingdom</td>\n",
       "      <td>All</td>\n",
       "      <td>45 min</td>\n",
       "      <td>Teenage Matt Banting wants to work with a famo...</td>\n",
       "    </tr>\n",
       "  </tbody>\n",
       "</table>\n",
       "</div>"
      ],
      "text/plain": [
       "    type                 title        director  \\\n",
       "0  Movie   The Grand Seduction    Don McKellar   \n",
       "1  Movie  Take Care Good Night    Girish Joshi   \n",
       "2  Movie  Secrets of Deception     Josh Webber   \n",
       "3  Movie    Pink: Staying True  Sonia Anderson   \n",
       "4  Movie         Monster Maker    Giles Foster   \n",
       "\n",
       "                                                cast         country rating  \\\n",
       "0     Brendan Gleeson, Taylor Kitsch, Gordon Pinsent          Canada    All   \n",
       "1   Mahesh Manjrekar, Abhay Mahajan, Sachin Khedekar           India    13+   \n",
       "2  Tom Sizemore, Lorenzo Lamas, Robert LaSardo, R...   United States    All   \n",
       "3  Interviews with: Pink, Adele, Beyoncé, Britney...   United States    All   \n",
       "4  Harry Dean Stanton, Kieran O'Brien, George Cos...  United Kingdom    All   \n",
       "\n",
       "  duration                                        description  \n",
       "0  113 min  A small fishing village must procure a local d...  \n",
       "1  110 min  A Metro Family decides to fight a Cyber Crimin...  \n",
       "2   74 min  After a man discovers his wife is cheating on ...  \n",
       "3   69 min  Pink breaks the mold once again, bringing her ...  \n",
       "4   45 min  Teenage Matt Banting wants to work with a famo...  "
      ]
     },
     "execution_count": 254,
     "metadata": {},
     "output_type": "execute_result"
    }
   ],
   "source": [
    "data.head()"
   ]
  },
  {
   "cell_type": "markdown",
   "id": "514cf6f0",
   "metadata": {},
   "source": []
  },
  {
   "cell_type": "code",
   "execution_count": 255,
   "id": "f66745ba",
   "metadata": {},
   "outputs": [],
   "source": [
    "sameRated = data[data[[\"director\", \"rating\"]].nunique(axis=1) == 1]"
   ]
  },
  {
   "cell_type": "code",
   "execution_count": 256,
   "id": "c9fb4db5",
   "metadata": {},
   "outputs": [
    {
     "data": {
      "text/html": [
       "<div>\n",
       "<style scoped>\n",
       "    .dataframe tbody tr th:only-of-type {\n",
       "        vertical-align: middle;\n",
       "    }\n",
       "\n",
       "    .dataframe tbody tr th {\n",
       "        vertical-align: top;\n",
       "    }\n",
       "\n",
       "    .dataframe thead th {\n",
       "        text-align: right;\n",
       "    }\n",
       "</style>\n",
       "<table border=\"1\" class=\"dataframe\">\n",
       "  <thead>\n",
       "    <tr style=\"text-align: right;\">\n",
       "      <th></th>\n",
       "      <th>type</th>\n",
       "      <th>title</th>\n",
       "      <th>director</th>\n",
       "      <th>cast</th>\n",
       "      <th>country</th>\n",
       "      <th>rating</th>\n",
       "      <th>duration</th>\n",
       "      <th>description</th>\n",
       "    </tr>\n",
       "  </thead>\n",
       "  <tbody>\n",
       "  </tbody>\n",
       "</table>\n",
       "</div>"
      ],
      "text/plain": [
       "Empty DataFrame\n",
       "Columns: [type, title, director, cast, country, rating, duration, description]\n",
       "Index: []"
      ]
     },
     "execution_count": 256,
     "metadata": {},
     "output_type": "execute_result"
    }
   ],
   "source": [
    "sameRated"
   ]
  },
  {
   "cell_type": "code",
   "execution_count": 257,
   "id": "2fc237e1",
   "metadata": {},
   "outputs": [
    {
     "name": "stdout",
     "output_type": "stream",
     "text": [
      "5774\n",
      "(7586, 8)\n"
     ]
    }
   ],
   "source": [
    "print(data[\"director\"].nunique())\n",
    "print(data.shape)"
   ]
  },
  {
   "cell_type": "markdown",
   "id": "3ae96d7b",
   "metadata": {},
   "source": [
    "#### This hypothesis didn't work out. My next hypothesis is similarly described movies have similar ratings. "
   ]
  },
  {
   "cell_type": "markdown",
   "id": "37f31e6d",
   "metadata": {},
   "source": [
    "#### To determine similarity between movies description using NLTK library. "
   ]
  },
  {
   "cell_type": "code",
   "execution_count": 258,
   "id": "b7eca738",
   "metadata": {},
   "outputs": [],
   "source": [
    "import numpy as np"
   ]
  },
  {
   "cell_type": "code",
   "execution_count": 259,
   "id": "1066cd0e",
   "metadata": {},
   "outputs": [
    {
     "name": "stdout",
     "output_type": "stream",
     "text": [
      "\u001b[33mDEPRECATION: Configuring installation scheme with distutils config files is deprecated and will no longer work in the near future. If you are using a Homebrew or Linuxbrew Python, please see discussion at https://github.com/Homebrew/homebrew-core/issues/76621\u001b[0m\u001b[33m\n",
      "\u001b[0mRequirement already satisfied: nltk in /opt/homebrew/lib/python3.9/site-packages (3.7)\n",
      "Requirement already satisfied: click in /opt/homebrew/lib/python3.9/site-packages (from nltk) (8.0.2)\n",
      "Requirement already satisfied: tqdm in /opt/homebrew/lib/python3.9/site-packages (from nltk) (4.64.1)\n",
      "Requirement already satisfied: joblib in /opt/homebrew/lib/python3.9/site-packages (from nltk) (1.2.0)\n",
      "Requirement already satisfied: regex>=2021.8.3 in /opt/homebrew/lib/python3.9/site-packages (from nltk) (2022.10.31)\n",
      "\u001b[33mDEPRECATION: Configuring installation scheme with distutils config files is deprecated and will no longer work in the near future. If you are using a Homebrew or Linuxbrew Python, please see discussion at https://github.com/Homebrew/homebrew-core/issues/76621\u001b[0m\u001b[33m\n",
      "\u001b[0m\n",
      "\u001b[1m[\u001b[0m\u001b[34;49mnotice\u001b[0m\u001b[1;39;49m]\u001b[0m\u001b[39;49m A new release of pip available: \u001b[0m\u001b[31;49m22.2.2\u001b[0m\u001b[39;49m -> \u001b[0m\u001b[32;49m22.3.1\u001b[0m\n",
      "\u001b[1m[\u001b[0m\u001b[34;49mnotice\u001b[0m\u001b[1;39;49m]\u001b[0m\u001b[39;49m To update, run: \u001b[0m\u001b[32;49mpython3.9 -m pip install --upgrade pip\u001b[0m\n"
     ]
    }
   ],
   "source": [
    "import sys\n",
    "!{sys.executable} -m pip install nltk"
   ]
  },
  {
   "cell_type": "code",
   "execution_count": 260,
   "id": "faeaf916",
   "metadata": {},
   "outputs": [],
   "source": [
    "import nltk"
   ]
  },
  {
   "cell_type": "code",
   "execution_count": 261,
   "id": "4051a8e0",
   "metadata": {},
   "outputs": [
    {
     "name": "stdout",
     "output_type": "stream",
     "text": [
      "\u001b[33mDEPRECATION: Configuring installation scheme with distutils config files is deprecated and will no longer work in the near future. If you are using a Homebrew or Linuxbrew Python, please see discussion at https://github.com/Homebrew/homebrew-core/issues/76621\u001b[0m\u001b[33m\n",
      "\u001b[0mCollecting numpy==1.22.4\n",
      "  Using cached numpy-1.22.4-cp39-cp39-macosx_11_0_arm64.whl (12.8 MB)\n",
      "Installing collected packages: numpy\n",
      "  Attempting uninstall: numpy\n",
      "    Found existing installation: numpy 1.23.5\n",
      "    Uninstalling numpy-1.23.5:\n",
      "      Successfully uninstalled numpy-1.23.5\n",
      "\u001b[33m  DEPRECATION: Configuring installation scheme with distutils config files is deprecated and will no longer work in the near future. If you are using a Homebrew or Linuxbrew Python, please see discussion at https://github.com/Homebrew/homebrew-core/issues/76621\u001b[0m\u001b[33m\n",
      "\u001b[0m\u001b[33mDEPRECATION: Configuring installation scheme with distutils config files is deprecated and will no longer work in the near future. If you are using a Homebrew or Linuxbrew Python, please see discussion at https://github.com/Homebrew/homebrew-core/issues/76621\u001b[0m\u001b[33m\n",
      "\u001b[0mSuccessfully installed numpy-1.22.4\n",
      "\n",
      "\u001b[1m[\u001b[0m\u001b[34;49mnotice\u001b[0m\u001b[1;39;49m]\u001b[0m\u001b[39;49m A new release of pip available: \u001b[0m\u001b[31;49m22.2.2\u001b[0m\u001b[39;49m -> \u001b[0m\u001b[32;49m22.3.1\u001b[0m\n",
      "\u001b[1m[\u001b[0m\u001b[34;49mnotice\u001b[0m\u001b[1;39;49m]\u001b[0m\u001b[39;49m To update, run: \u001b[0m\u001b[32;49mpython3.9 -m pip install --upgrade pip\u001b[0m\n"
     ]
    }
   ],
   "source": [
    "!{sys.executable} -m pip install numpy==1.22.4"
   ]
  },
  {
   "cell_type": "code",
   "execution_count": 262,
   "id": "7cc10da8",
   "metadata": {},
   "outputs": [],
   "source": [
    "import re"
   ]
  },
  {
   "cell_type": "code",
   "execution_count": 263,
   "id": "eef37ec8",
   "metadata": {},
   "outputs": [],
   "source": [
    "data[\"description\"] = data[\"description\"].astype('str')"
   ]
  },
  {
   "cell_type": "code",
   "execution_count": null,
   "id": "0fe9cde2",
   "metadata": {},
   "outputs": [],
   "source": []
  },
  {
   "cell_type": "code",
   "execution_count": 264,
   "id": "e6107f66",
   "metadata": {},
   "outputs": [],
   "source": [
    "from nltk.stem.snowball import SnowballStemmer\n",
    "stemmer = SnowballStemmer(\"english\", ignore_stopwords=False)\n",
    "def normalize(X): \n",
    "  normalized = []\n",
    "  for x in X:\n",
    "    words = nltk.word_tokenize(x)\n",
    "    normalized.append(' '.join([stemmer.stem(word) for word in words if re.match('[a-zA-Z]+', word)]))\n",
    "  return normalized\n"
   ]
  },
  {
   "cell_type": "code",
   "execution_count": 265,
   "id": "80771db4",
   "metadata": {},
   "outputs": [
    {
     "name": "stdout",
     "output_type": "stream",
     "text": [
      "\u001b[33mDEPRECATION: Configuring installation scheme with distutils config files is deprecated and will no longer work in the near future. If you are using a Homebrew or Linuxbrew Python, please see discussion at https://github.com/Homebrew/homebrew-core/issues/76621\u001b[0m\u001b[33m\n",
      "\u001b[0mCollecting scikit-learn\n",
      "  Using cached scikit_learn-1.1.3-cp39-cp39-macosx_12_0_arm64.whl (7.7 MB)\n",
      "Collecting joblib>=1.0.0\n",
      "  Using cached joblib-1.2.0-py3-none-any.whl (297 kB)\n",
      "Collecting threadpoolctl>=2.0.0\n",
      "  Using cached threadpoolctl-3.1.0-py3-none-any.whl (14 kB)\n",
      "Collecting scipy>=1.3.2\n",
      "  Using cached scipy-1.9.3-cp39-cp39-macosx_12_0_arm64.whl (28.6 MB)\n",
      "Collecting numpy>=1.17.3\n",
      "  Using cached numpy-1.23.5-cp39-cp39-macosx_11_0_arm64.whl (13.4 MB)\n",
      "Installing collected packages: threadpoolctl, numpy, joblib, scipy, scikit-learn\n",
      "  Attempting uninstall: threadpoolctl\n",
      "    Found existing installation: threadpoolctl 3.1.0\n",
      "    Uninstalling threadpoolctl-3.1.0:\n",
      "      Successfully uninstalled threadpoolctl-3.1.0\n",
      "\u001b[33m  DEPRECATION: Configuring installation scheme with distutils config files is deprecated and will no longer work in the near future. If you are using a Homebrew or Linuxbrew Python, please see discussion at https://github.com/Homebrew/homebrew-core/issues/76621\u001b[0m\u001b[33m\n",
      "\u001b[0m  Attempting uninstall: numpy\n",
      "    Found existing installation: numpy 1.22.4\n",
      "    Uninstalling numpy-1.22.4:\n",
      "      Successfully uninstalled numpy-1.22.4\n",
      "\u001b[33m  DEPRECATION: Configuring installation scheme with distutils config files is deprecated and will no longer work in the near future. If you are using a Homebrew or Linuxbrew Python, please see discussion at https://github.com/Homebrew/homebrew-core/issues/76621\u001b[0m\u001b[33m\n",
      "\u001b[0m  Attempting uninstall: joblib\n",
      "    Found existing installation: joblib 1.2.0\n",
      "    Uninstalling joblib-1.2.0:\n",
      "      Successfully uninstalled joblib-1.2.0\n",
      "\u001b[33m  DEPRECATION: Configuring installation scheme with distutils config files is deprecated and will no longer work in the near future. If you are using a Homebrew or Linuxbrew Python, please see discussion at https://github.com/Homebrew/homebrew-core/issues/76621\u001b[0m\u001b[33m\n",
      "\u001b[0m  Attempting uninstall: scipy\n",
      "    Found existing installation: scipy 1.9.3\n",
      "    Uninstalling scipy-1.9.3:\n",
      "      Successfully uninstalled scipy-1.9.3\n",
      "\u001b[33m  DEPRECATION: Configuring installation scheme with distutils config files is deprecated and will no longer work in the near future. If you are using a Homebrew or Linuxbrew Python, please see discussion at https://github.com/Homebrew/homebrew-core/issues/76621\u001b[0m\u001b[33m\n",
      "\u001b[0m  Attempting uninstall: scikit-learn\n",
      "    Found existing installation: scikit-learn 1.1.3\n",
      "    Uninstalling scikit-learn-1.1.3:\n",
      "      Successfully uninstalled scikit-learn-1.1.3\n",
      "\u001b[33m  DEPRECATION: Configuring installation scheme with distutils config files is deprecated and will no longer work in the near future. If you are using a Homebrew or Linuxbrew Python, please see discussion at https://github.com/Homebrew/homebrew-core/issues/76621\u001b[0m\u001b[33m\n",
      "\u001b[0m\u001b[33mDEPRECATION: Configuring installation scheme with distutils config files is deprecated and will no longer work in the near future. If you are using a Homebrew or Linuxbrew Python, please see discussion at https://github.com/Homebrew/homebrew-core/issues/76621\u001b[0m\u001b[33m\n",
      "\u001b[0mSuccessfully installed joblib-1.2.0 numpy-1.23.5 scikit-learn-1.1.3 scipy-1.9.3 threadpoolctl-3.1.0\n",
      "\n",
      "\u001b[1m[\u001b[0m\u001b[34;49mnotice\u001b[0m\u001b[1;39;49m]\u001b[0m\u001b[39;49m A new release of pip available: \u001b[0m\u001b[31;49m22.2.2\u001b[0m\u001b[39;49m -> \u001b[0m\u001b[32;49m22.3.1\u001b[0m\n",
      "\u001b[1m[\u001b[0m\u001b[34;49mnotice\u001b[0m\u001b[1;39;49m]\u001b[0m\u001b[39;49m To update, run: \u001b[0m\u001b[32;49mpython3.9 -m pip install --upgrade pip\u001b[0m\n"
     ]
    }
   ],
   "source": [
    "!{sys.executable} -m pip install --upgrade --force-reinstall scikit-learn\n",
    "\n",
    "from sklearn.pipeline import Pipeline\n",
    "from sklearn.feature_extraction.text import CountVectorizer, TfidfTransformer\n",
    "from sklearn.preprocessing import FunctionTransformer\n",
    "\n",
    "toTrain = Pipeline([\n",
    "  ('normalize', FunctionTransformer(normalize, validate=False)),\n",
    "  ('counter_vectorizer', CountVectorizer(max_df=0.9, max_features=200000,min_df=0.1, stop_words='english',ngram_range=(1,3)\n",
    "  )),\n",
    "  ('tfidf_transform', TfidfTransformer())\n",
    "])"
   ]
  },
  {
   "cell_type": "code",
   "execution_count": 266,
   "id": "bdb4b74d",
   "metadata": {},
   "outputs": [],
   "source": [
    "from sklearn.metrics.pairwise import cosine_similarity \n",
    "\n",
    "tfidf_matrix = pipe.fit_transform([desc for desc in data['description']])\n",
    "similarity_matrix = 1 - cosine_similarity(tfidf_matrix)"
   ]
  },
  {
   "cell_type": "code",
   "execution_count": 267,
   "id": "8e44386e",
   "metadata": {},
   "outputs": [
    {
     "name": "stdout",
     "output_type": "stream",
     "text": [
      "[[1. 1. 1. ... 1. 1. 1.]\n",
      " [1. 1. 1. ... 1. 1. 1.]\n",
      " [1. 1. 1. ... 1. 1. 1.]\n",
      " ...\n",
      " [1. 1. 1. ... 1. 1. 1.]\n",
      " [1. 1. 1. ... 1. 1. 1.]\n",
      " [1. 1. 1. ... 1. 1. 1.]]\n",
      "(7586, 7586)\n"
     ]
    }
   ],
   "source": [
    "print(similarity_matrix)\n",
    "print(similarity_matrix.shape)"
   ]
  },
  {
   "cell_type": "code",
   "execution_count": null,
   "id": "20dda9ba",
   "metadata": {},
   "outputs": [],
   "source": []
  },
  {
   "cell_type": "code",
   "execution_count": null,
   "id": "d53c4223",
   "metadata": {},
   "outputs": [],
   "source": []
  },
  {
   "cell_type": "code",
   "execution_count": null,
   "id": "c3d7a80f",
   "metadata": {},
   "outputs": [],
   "source": []
  },
  {
   "cell_type": "code",
   "execution_count": 268,
   "id": "d2d54b34",
   "metadata": {},
   "outputs": [],
   "source": [
    "# Percentage of articles that are much different from each other\n",
    "new = similarity_matrix.argsort(axis=1)\n"
   ]
  },
  {
   "cell_type": "code",
   "execution_count": 269,
   "id": "170ae32b",
   "metadata": {},
   "outputs": [],
   "source": [
    "def getPredictedRating(title):\n",
    "    givenIndex = data[data[\"title\"] == title].index[0]\n",
    "    ourCol = new[givenIndex, :]\n",
    "    needed = ourCol[1:4]\n",
    "    allRatings = []\n",
    "    for index in needed:\n",
    "        allRatings.append(data.iloc[index][\"rating\"])\n",
    "    new_dict = {}\n",
    "    for ele in allRatings:\n",
    "        if ele in new_dict:\n",
    "            new_dict[ele] += 1\n",
    "        else:\n",
    "            new_dict[ele] = 1\n",
    "    counts = list(new_dict.values())\n",
    "    if counts == [1, 1, 1]:\n",
    "        return allRatings[0]\n",
    "    for k, v in new_dict.items():\n",
    "        if v != 1:\n",
    "            return k\n"
   ]
  },
  {
   "cell_type": "code",
   "execution_count": 270,
   "id": "cd2f2662",
   "metadata": {},
   "outputs": [
    {
     "data": {
      "text/plain": [
       "array(['All', '13+', 'R', 'NR', 'ALL', '18+', 'PG-13', '16+', '7+', 'G',\n",
       "       'PG', 'NC-17', 'UNRATED', '16', 'AGES_16_', 'AGES_18_', 'ALL_AGES',\n",
       "       'NOT_RATE'], dtype=object)"
      ]
     },
     "execution_count": 270,
     "metadata": {},
     "output_type": "execute_result"
    }
   ],
   "source": [
    "data[\"rating\"].unique()"
   ]
  },
  {
   "cell_type": "code",
   "execution_count": 271,
   "id": "bfa0a255",
   "metadata": {},
   "outputs": [],
   "source": [
    "replace_dict = {\"ALL_AGES\": \"All\", \"NOT_RATE\": \"All\",\"ALL\": \"All\", \"PG-13\": \"13+\", \"NC-17\": \"17+\", \"UNRATED\": \"All\", \"16\": \"16+\", \"AGES_16_\": \"16+\", \"AGES_18_\": \"18+\"}"
   ]
  },
  {
   "cell_type": "code",
   "execution_count": 272,
   "id": "8a7fe287",
   "metadata": {},
   "outputs": [],
   "source": [
    "data = data.replace({\"rating\": replace_dict})"
   ]
  },
  {
   "cell_type": "code",
   "execution_count": 273,
   "id": "f79a389b",
   "metadata": {},
   "outputs": [
    {
     "data": {
      "text/plain": [
       "array(['All', '13+', 'R', 'NR', '18+', '16+', '7+', 'G', 'PG', '17+'],\n",
       "      dtype=object)"
      ]
     },
     "execution_count": 273,
     "metadata": {},
     "output_type": "execute_result"
    }
   ],
   "source": [
    "data[\"rating\"].unique()"
   ]
  },
  {
   "cell_type": "code",
   "execution_count": 274,
   "id": "c9802eaa",
   "metadata": {},
   "outputs": [
    {
     "name": "stdout",
     "output_type": "stream",
     "text": [
      "13+\n"
     ]
    }
   ],
   "source": [
    "print(getPredictedRating(\"Wilder Napalm\"))"
   ]
  },
  {
   "cell_type": "code",
   "execution_count": 275,
   "id": "a3dcddd1",
   "metadata": {},
   "outputs": [
    {
     "name": "stdout",
     "output_type": "stream",
     "text": [
      "\u001b[33mDEPRECATION: Configuring installation scheme with distutils config files is deprecated and will no longer work in the near future. If you are using a Homebrew or Linuxbrew Python, please see discussion at https://github.com/Homebrew/homebrew-core/issues/76621\u001b[0m\u001b[33m\n",
      "\u001b[0mRequirement already satisfied: swifter in /opt/homebrew/lib/python3.9/site-packages (1.3.4)\n",
      "Requirement already satisfied: pandas>=1.0.0 in /opt/homebrew/lib/python3.9/site-packages (from swifter) (1.5.1)\n",
      "Requirement already satisfied: dask[dataframe]>=2.10.0 in /opt/homebrew/lib/python3.9/site-packages (from swifter) (2022.12.0)\n",
      "Requirement already satisfied: tqdm>=4.33.0 in /opt/homebrew/lib/python3.9/site-packages (from swifter) (4.64.1)\n",
      "Requirement already satisfied: bleach>=3.1.1 in /opt/homebrew/lib/python3.9/site-packages (from swifter) (4.1.0)\n",
      "Requirement already satisfied: cloudpickle>=0.2.2 in /opt/homebrew/lib/python3.9/site-packages (from swifter) (2.2.0)\n",
      "Requirement already satisfied: ipywidgets>=7.0.0 in /opt/homebrew/lib/python3.9/site-packages (from swifter) (8.0.2)\n",
      "Requirement already satisfied: parso>0.4.0 in /opt/homebrew/lib/python3.9/site-packages (from swifter) (0.8.2)\n",
      "Requirement already satisfied: psutil>=5.6.6 in /opt/homebrew/lib/python3.9/site-packages (from swifter) (5.9.4)\n",
      "Requirement already satisfied: webencodings in /opt/homebrew/lib/python3.9/site-packages (from bleach>=3.1.1->swifter) (0.5.1)\n",
      "Requirement already satisfied: packaging in /opt/homebrew/lib/python3.9/site-packages (from bleach>=3.1.1->swifter) (21.0)\n",
      "Requirement already satisfied: six>=1.9.0 in /opt/homebrew/lib/python3.9/site-packages (from bleach>=3.1.1->swifter) (1.16.0)\n",
      "Requirement already satisfied: fsspec>=0.6.0 in /opt/homebrew/lib/python3.9/site-packages (from dask[dataframe]>=2.10.0->swifter) (2022.11.0)\n",
      "Requirement already satisfied: toolz>=0.8.2 in /opt/homebrew/lib/python3.9/site-packages (from dask[dataframe]>=2.10.0->swifter) (0.12.0)\n",
      "Requirement already satisfied: click>=7.0 in /opt/homebrew/lib/python3.9/site-packages (from dask[dataframe]>=2.10.0->swifter) (8.0.2)\n",
      "Requirement already satisfied: partd>=0.3.10 in /opt/homebrew/lib/python3.9/site-packages (from dask[dataframe]>=2.10.0->swifter) (1.3.0)\n",
      "Requirement already satisfied: pyyaml>=5.3.1 in /opt/homebrew/lib/python3.9/site-packages (from dask[dataframe]>=2.10.0->swifter) (6.0)\n",
      "Requirement already satisfied: numpy>=1.18 in /opt/homebrew/lib/python3.9/site-packages (from dask[dataframe]>=2.10.0->swifter) (1.23.5)\n",
      "Requirement already satisfied: traitlets>=4.3.1 in /opt/homebrew/lib/python3.9/site-packages (from ipywidgets>=7.0.0->swifter) (5.1.0)\n",
      "Requirement already satisfied: jupyterlab-widgets~=3.0 in /opt/homebrew/lib/python3.9/site-packages (from ipywidgets>=7.0.0->swifter) (3.0.3)\n",
      "Requirement already satisfied: ipykernel>=4.5.1 in /opt/homebrew/lib/python3.9/site-packages (from ipywidgets>=7.0.0->swifter) (6.4.1)\n",
      "Requirement already satisfied: widgetsnbextension~=4.0 in /opt/homebrew/lib/python3.9/site-packages (from ipywidgets>=7.0.0->swifter) (4.0.3)\n",
      "Requirement already satisfied: ipython>=6.1.0 in /opt/homebrew/lib/python3.9/site-packages (from ipywidgets>=7.0.0->swifter) (7.28.0)\n",
      "Requirement already satisfied: python-dateutil>=2.8.1 in /opt/homebrew/lib/python3.9/site-packages (from pandas>=1.0.0->swifter) (2.8.2)\n",
      "Requirement already satisfied: pytz>=2020.1 in /opt/homebrew/lib/python3.9/site-packages (from pandas>=1.0.0->swifter) (2021.3)\n",
      "Requirement already satisfied: ipython-genutils in /opt/homebrew/lib/python3.9/site-packages (from ipykernel>=4.5.1->ipywidgets>=7.0.0->swifter) (0.2.0)\n",
      "Requirement already satisfied: matplotlib-inline<0.2.0,>=0.1.0 in /opt/homebrew/lib/python3.9/site-packages (from ipykernel>=4.5.1->ipywidgets>=7.0.0->swifter) (0.1.3)\n",
      "Requirement already satisfied: appnope in /opt/homebrew/lib/python3.9/site-packages (from ipykernel>=4.5.1->ipywidgets>=7.0.0->swifter) (0.1.2)\n",
      "Requirement already satisfied: jupyter-client<8.0 in /opt/homebrew/lib/python3.9/site-packages (from ipykernel>=4.5.1->ipywidgets>=7.0.0->swifter) (7.0.6)\n",
      "Requirement already satisfied: debugpy<2.0,>=1.0.0 in /opt/homebrew/lib/python3.9/site-packages (from ipykernel>=4.5.1->ipywidgets>=7.0.0->swifter) (1.5.0)\n",
      "Requirement already satisfied: tornado<7.0,>=4.2 in /opt/homebrew/lib/python3.9/site-packages (from ipykernel>=4.5.1->ipywidgets>=7.0.0->swifter) (6.1)\n",
      "Requirement already satisfied: jedi>=0.16 in /opt/homebrew/lib/python3.9/site-packages (from ipython>=6.1.0->ipywidgets>=7.0.0->swifter) (0.18.0)\n",
      "Requirement already satisfied: pickleshare in /opt/homebrew/lib/python3.9/site-packages (from ipython>=6.1.0->ipywidgets>=7.0.0->swifter) (0.7.5)\n",
      "Requirement already satisfied: pexpect>4.3 in /opt/homebrew/lib/python3.9/site-packages (from ipython>=6.1.0->ipywidgets>=7.0.0->swifter) (4.8.0)\n",
      "Requirement already satisfied: setuptools>=18.5 in /opt/homebrew/lib/python3.9/site-packages (from ipython>=6.1.0->ipywidgets>=7.0.0->swifter) (65.4.1)\n",
      "Requirement already satisfied: decorator in /opt/homebrew/lib/python3.9/site-packages (from ipython>=6.1.0->ipywidgets>=7.0.0->swifter) (5.1.0)\n",
      "Requirement already satisfied: prompt-toolkit!=3.0.0,!=3.0.1,<3.1.0,>=2.0.0 in /opt/homebrew/lib/python3.9/site-packages (from ipython>=6.1.0->ipywidgets>=7.0.0->swifter) (3.0.20)\n",
      "Requirement already satisfied: pygments in /opt/homebrew/lib/python3.9/site-packages (from ipython>=6.1.0->ipywidgets>=7.0.0->swifter) (2.13.0)\n",
      "Requirement already satisfied: backcall in /opt/homebrew/lib/python3.9/site-packages (from ipython>=6.1.0->ipywidgets>=7.0.0->swifter) (0.2.0)\n",
      "Requirement already satisfied: pyparsing>=2.0.2 in /opt/homebrew/lib/python3.9/site-packages (from packaging->bleach>=3.1.1->swifter) (2.4.7)\n",
      "Requirement already satisfied: locket in /opt/homebrew/lib/python3.9/site-packages (from partd>=0.3.10->dask[dataframe]>=2.10.0->swifter) (1.0.0)\n",
      "Requirement already satisfied: pyzmq>=13 in /opt/homebrew/lib/python3.9/site-packages (from jupyter-client<8.0->ipykernel>=4.5.1->ipywidgets>=7.0.0->swifter) (22.3.0)\n",
      "Requirement already satisfied: entrypoints in /opt/homebrew/lib/python3.9/site-packages (from jupyter-client<8.0->ipykernel>=4.5.1->ipywidgets>=7.0.0->swifter) (0.3)\n",
      "Requirement already satisfied: jupyter-core>=4.6.0 in /opt/homebrew/lib/python3.9/site-packages (from jupyter-client<8.0->ipykernel>=4.5.1->ipywidgets>=7.0.0->swifter) (4.8.1)\n",
      "Requirement already satisfied: nest-asyncio>=1.5 in /opt/homebrew/lib/python3.9/site-packages (from jupyter-client<8.0->ipykernel>=4.5.1->ipywidgets>=7.0.0->swifter) (1.5.1)\n",
      "Requirement already satisfied: ptyprocess>=0.5 in /opt/homebrew/lib/python3.9/site-packages (from pexpect>4.3->ipython>=6.1.0->ipywidgets>=7.0.0->swifter) (0.7.0)\n",
      "Requirement already satisfied: wcwidth in /opt/homebrew/lib/python3.9/site-packages (from prompt-toolkit!=3.0.0,!=3.0.1,<3.1.0,>=2.0.0->ipython>=6.1.0->ipywidgets>=7.0.0->swifter) (0.2.5)\n",
      "\u001b[33mDEPRECATION: Configuring installation scheme with distutils config files is deprecated and will no longer work in the near future. If you are using a Homebrew or Linuxbrew Python, please see discussion at https://github.com/Homebrew/homebrew-core/issues/76621\u001b[0m\u001b[33m\n",
      "\u001b[0m\n",
      "\u001b[1m[\u001b[0m\u001b[34;49mnotice\u001b[0m\u001b[1;39;49m]\u001b[0m\u001b[39;49m A new release of pip available: \u001b[0m\u001b[31;49m22.2.2\u001b[0m\u001b[39;49m -> \u001b[0m\u001b[32;49m22.3.1\u001b[0m\n",
      "\u001b[1m[\u001b[0m\u001b[34;49mnotice\u001b[0m\u001b[1;39;49m]\u001b[0m\u001b[39;49m To update, run: \u001b[0m\u001b[32;49mpython3.9 -m pip install --upgrade pip\u001b[0m\n"
     ]
    }
   ],
   "source": [
    "!{sys.executable} -m pip install swifter"
   ]
  },
  {
   "cell_type": "code",
   "execution_count": 276,
   "id": "2fd8f35a",
   "metadata": {},
   "outputs": [],
   "source": [
    "import swifter"
   ]
  },
  {
   "cell_type": "code",
   "execution_count": 277,
   "id": "ec2854fd",
   "metadata": {},
   "outputs": [
    {
     "data": {
      "application/vnd.jupyter.widget-view+json": {
       "model_id": "2478e0c99a99467a879a8e84c4274169",
       "version_major": 2,
       "version_minor": 0
      },
      "text/plain": [
       "Pandas Apply:   0%|          | 0/7586 [00:00<?, ?it/s]"
      ]
     },
     "metadata": {},
     "output_type": "display_data"
    }
   ],
   "source": [
    "data[\"PredictedRating\"] = data[\"title\"].swifter.apply(getPredictedRating)"
   ]
  },
  {
   "cell_type": "code",
   "execution_count": 278,
   "id": "b3e29815",
   "metadata": {},
   "outputs": [
    {
     "data": {
      "text/html": [
       "<div>\n",
       "<style scoped>\n",
       "    .dataframe tbody tr th:only-of-type {\n",
       "        vertical-align: middle;\n",
       "    }\n",
       "\n",
       "    .dataframe tbody tr th {\n",
       "        vertical-align: top;\n",
       "    }\n",
       "\n",
       "    .dataframe thead th {\n",
       "        text-align: right;\n",
       "    }\n",
       "</style>\n",
       "<table border=\"1\" class=\"dataframe\">\n",
       "  <thead>\n",
       "    <tr style=\"text-align: right;\">\n",
       "      <th></th>\n",
       "      <th>type</th>\n",
       "      <th>title</th>\n",
       "      <th>director</th>\n",
       "      <th>cast</th>\n",
       "      <th>country</th>\n",
       "      <th>rating</th>\n",
       "      <th>duration</th>\n",
       "      <th>description</th>\n",
       "      <th>PredictedRating</th>\n",
       "    </tr>\n",
       "  </thead>\n",
       "  <tbody>\n",
       "    <tr>\n",
       "      <th>0</th>\n",
       "      <td>Movie</td>\n",
       "      <td>The Grand Seduction</td>\n",
       "      <td>Don McKellar</td>\n",
       "      <td>Brendan Gleeson, Taylor Kitsch, Gordon Pinsent</td>\n",
       "      <td>Canada</td>\n",
       "      <td>All</td>\n",
       "      <td>113 min</td>\n",
       "      <td>A small fishing village must procure a local d...</td>\n",
       "      <td>13+</td>\n",
       "    </tr>\n",
       "    <tr>\n",
       "      <th>1</th>\n",
       "      <td>Movie</td>\n",
       "      <td>Take Care Good Night</td>\n",
       "      <td>Girish Joshi</td>\n",
       "      <td>Mahesh Manjrekar, Abhay Mahajan, Sachin Khedekar</td>\n",
       "      <td>India</td>\n",
       "      <td>13+</td>\n",
       "      <td>110 min</td>\n",
       "      <td>A Metro Family decides to fight a Cyber Crimin...</td>\n",
       "      <td>13+</td>\n",
       "    </tr>\n",
       "    <tr>\n",
       "      <th>2</th>\n",
       "      <td>Movie</td>\n",
       "      <td>Secrets of Deception</td>\n",
       "      <td>Josh Webber</td>\n",
       "      <td>Tom Sizemore, Lorenzo Lamas, Robert LaSardo, R...</td>\n",
       "      <td>United States</td>\n",
       "      <td>All</td>\n",
       "      <td>74 min</td>\n",
       "      <td>After a man discovers his wife is cheating on ...</td>\n",
       "      <td>13+</td>\n",
       "    </tr>\n",
       "    <tr>\n",
       "      <th>3</th>\n",
       "      <td>Movie</td>\n",
       "      <td>Pink: Staying True</td>\n",
       "      <td>Sonia Anderson</td>\n",
       "      <td>Interviews with: Pink, Adele, Beyoncé, Britney...</td>\n",
       "      <td>United States</td>\n",
       "      <td>All</td>\n",
       "      <td>69 min</td>\n",
       "      <td>Pink breaks the mold once again, bringing her ...</td>\n",
       "      <td>13+</td>\n",
       "    </tr>\n",
       "    <tr>\n",
       "      <th>4</th>\n",
       "      <td>Movie</td>\n",
       "      <td>Monster Maker</td>\n",
       "      <td>Giles Foster</td>\n",
       "      <td>Harry Dean Stanton, Kieran O'Brien, George Cos...</td>\n",
       "      <td>United Kingdom</td>\n",
       "      <td>All</td>\n",
       "      <td>45 min</td>\n",
       "      <td>Teenage Matt Banting wants to work with a famo...</td>\n",
       "      <td>13+</td>\n",
       "    </tr>\n",
       "    <tr>\n",
       "      <th>...</th>\n",
       "      <td>...</td>\n",
       "      <td>...</td>\n",
       "      <td>...</td>\n",
       "      <td>...</td>\n",
       "      <td>...</td>\n",
       "      <td>...</td>\n",
       "      <td>...</td>\n",
       "      <td>...</td>\n",
       "      <td>...</td>\n",
       "    </tr>\n",
       "    <tr>\n",
       "      <th>7581</th>\n",
       "      <td>Movie</td>\n",
       "      <td>The Man in the Hat</td>\n",
       "      <td>John-Paul Davidson, Stephen Warbeck</td>\n",
       "      <td>Ciaran Hinds, Stephen Dillane, Maïwenn</td>\n",
       "      <td>NaN</td>\n",
       "      <td>13+</td>\n",
       "      <td>96 min</td>\n",
       "      <td>The Man in the Hat journeys through France in ...</td>\n",
       "      <td>13+</td>\n",
       "    </tr>\n",
       "    <tr>\n",
       "      <th>7582</th>\n",
       "      <td>Movie</td>\n",
       "      <td>River</td>\n",
       "      <td>Emily Skye</td>\n",
       "      <td>Mary Cameron Rogers, Alexandra Rose, Rob Marsh...</td>\n",
       "      <td>NaN</td>\n",
       "      <td>16+</td>\n",
       "      <td>93 min</td>\n",
       "      <td>River is a grounded Sci-Fi mystery Thriller, t...</td>\n",
       "      <td>13+</td>\n",
       "    </tr>\n",
       "    <tr>\n",
       "      <th>7583</th>\n",
       "      <td>Movie</td>\n",
       "      <td>Pride Of The Bowery</td>\n",
       "      <td>Joseph H. Lewis</td>\n",
       "      <td>Leo Gorcey, Bobby Jordan</td>\n",
       "      <td>NaN</td>\n",
       "      <td>7+</td>\n",
       "      <td>60 min</td>\n",
       "      <td>New York City street principles get an East Si...</td>\n",
       "      <td>13+</td>\n",
       "    </tr>\n",
       "    <tr>\n",
       "      <th>7584</th>\n",
       "      <td>Movie</td>\n",
       "      <td>Outpost</td>\n",
       "      <td>Steve Barker</td>\n",
       "      <td>Ray Stevenson, Julian Wadham, Richard Brake, M...</td>\n",
       "      <td>NaN</td>\n",
       "      <td>R</td>\n",
       "      <td>90 min</td>\n",
       "      <td>In war-torn Eastern Europe, a world-weary grou...</td>\n",
       "      <td>13+</td>\n",
       "    </tr>\n",
       "    <tr>\n",
       "      <th>7585</th>\n",
       "      <td>Movie</td>\n",
       "      <td>Harry Brown</td>\n",
       "      <td>Daniel Barber</td>\n",
       "      <td>Michael Caine, Emily Mortimer, Joseph Gilgun, ...</td>\n",
       "      <td>NaN</td>\n",
       "      <td>R</td>\n",
       "      <td>103 min</td>\n",
       "      <td>Harry Brown, starring two-time Academy Award w...</td>\n",
       "      <td>13+</td>\n",
       "    </tr>\n",
       "  </tbody>\n",
       "</table>\n",
       "<p>7586 rows × 9 columns</p>\n",
       "</div>"
      ],
      "text/plain": [
       "       type                 title                             director  \\\n",
       "0     Movie   The Grand Seduction                         Don McKellar   \n",
       "1     Movie  Take Care Good Night                         Girish Joshi   \n",
       "2     Movie  Secrets of Deception                          Josh Webber   \n",
       "3     Movie    Pink: Staying True                       Sonia Anderson   \n",
       "4     Movie         Monster Maker                         Giles Foster   \n",
       "...     ...                   ...                                  ...   \n",
       "7581  Movie    The Man in the Hat  John-Paul Davidson, Stephen Warbeck   \n",
       "7582  Movie                 River                           Emily Skye   \n",
       "7583  Movie   Pride Of The Bowery                      Joseph H. Lewis   \n",
       "7584  Movie               Outpost                         Steve Barker   \n",
       "7585  Movie           Harry Brown                        Daniel Barber   \n",
       "\n",
       "                                                   cast         country  \\\n",
       "0        Brendan Gleeson, Taylor Kitsch, Gordon Pinsent          Canada   \n",
       "1      Mahesh Manjrekar, Abhay Mahajan, Sachin Khedekar           India   \n",
       "2     Tom Sizemore, Lorenzo Lamas, Robert LaSardo, R...   United States   \n",
       "3     Interviews with: Pink, Adele, Beyoncé, Britney...   United States   \n",
       "4     Harry Dean Stanton, Kieran O'Brien, George Cos...  United Kingdom   \n",
       "...                                                 ...             ...   \n",
       "7581             Ciaran Hinds, Stephen Dillane, Maïwenn             NaN   \n",
       "7582  Mary Cameron Rogers, Alexandra Rose, Rob Marsh...             NaN   \n",
       "7583                           Leo Gorcey, Bobby Jordan             NaN   \n",
       "7584  Ray Stevenson, Julian Wadham, Richard Brake, M...             NaN   \n",
       "7585  Michael Caine, Emily Mortimer, Joseph Gilgun, ...             NaN   \n",
       "\n",
       "     rating duration                                        description  \\\n",
       "0       All  113 min  A small fishing village must procure a local d...   \n",
       "1       13+  110 min  A Metro Family decides to fight a Cyber Crimin...   \n",
       "2       All   74 min  After a man discovers his wife is cheating on ...   \n",
       "3       All   69 min  Pink breaks the mold once again, bringing her ...   \n",
       "4       All   45 min  Teenage Matt Banting wants to work with a famo...   \n",
       "...     ...      ...                                                ...   \n",
       "7581    13+   96 min  The Man in the Hat journeys through France in ...   \n",
       "7582    16+   93 min  River is a grounded Sci-Fi mystery Thriller, t...   \n",
       "7583     7+   60 min  New York City street principles get an East Si...   \n",
       "7584      R   90 min  In war-torn Eastern Europe, a world-weary grou...   \n",
       "7585      R  103 min  Harry Brown, starring two-time Academy Award w...   \n",
       "\n",
       "     PredictedRating  \n",
       "0                13+  \n",
       "1                13+  \n",
       "2                13+  \n",
       "3                13+  \n",
       "4                13+  \n",
       "...              ...  \n",
       "7581             13+  \n",
       "7582             13+  \n",
       "7583             13+  \n",
       "7584             13+  \n",
       "7585             13+  \n",
       "\n",
       "[7586 rows x 9 columns]"
      ]
     },
     "execution_count": 278,
     "metadata": {},
     "output_type": "execute_result"
    }
   ],
   "source": [
    "data"
   ]
  },
  {
   "cell_type": "code",
   "execution_count": 279,
   "id": "b1e84d9d",
   "metadata": {},
   "outputs": [],
   "source": [
    "shape = data[\"rating\"].nunique()\n",
    "uniqueRatings = np.zeros((shape,shape))"
   ]
  },
  {
   "cell_type": "code",
   "execution_count": 280,
   "id": "16da83d2",
   "metadata": {},
   "outputs": [
    {
     "data": {
      "text/plain": [
       "array(['All', '13+', 'R', 'NR', '18+', '16+', '7+', 'G', 'PG', '17+'],\n",
       "      dtype=object)"
      ]
     },
     "execution_count": 280,
     "metadata": {},
     "output_type": "execute_result"
    }
   ],
   "source": [
    "data[\"rating\"].unique()"
   ]
  },
  {
   "cell_type": "code",
   "execution_count": 281,
   "id": "695e83e4",
   "metadata": {},
   "outputs": [
    {
     "name": "stdout",
     "output_type": "stream",
     "text": [
      "[[0. 0. 0. 0. 0. 0. 0. 0. 0. 0.]\n",
      " [0. 0. 0. 0. 0. 0. 0. 0. 0. 0.]\n",
      " [0. 0. 0. 0. 0. 0. 0. 0. 0. 0.]\n",
      " [0. 0. 0. 0. 0. 0. 0. 0. 0. 0.]\n",
      " [0. 0. 0. 0. 0. 0. 0. 0. 0. 0.]\n",
      " [0. 0. 0. 0. 0. 0. 0. 0. 0. 0.]\n",
      " [0. 0. 0. 0. 0. 0. 0. 0. 0. 0.]\n",
      " [0. 0. 0. 0. 0. 0. 0. 0. 0. 0.]\n",
      " [0. 0. 0. 0. 0. 0. 0. 0. 0. 0.]\n",
      " [0. 0. 0. 0. 0. 0. 0. 0. 0. 0.]]\n"
     ]
    }
   ],
   "source": [
    "print(uniqueRatings)"
   ]
  },
  {
   "cell_type": "code",
   "execution_count": 282,
   "id": "522df2f5",
   "metadata": {},
   "outputs": [],
   "source": [
    "ourDict = {\"All\": 0, \"13+\": 1, \"R\": 2, \"NR\": 3, \"18+\": 4, \"16+\": 5, \"7+\": 6, \"G\": 7, \"PG\": 8, \"17+\": 9}"
   ]
  },
  {
   "cell_type": "code",
   "execution_count": 283,
   "id": "9f322e46",
   "metadata": {},
   "outputs": [],
   "source": [
    "for i in range(len(data)):\n",
    "    real = data.iloc[i][\"rating\"]\n",
    "    predicted = data.iloc[i][\"PredictedRating\"]\n",
    "    uniqueRatings[ourDict[real]][ourDict[predicted]] += 1\n"
   ]
  },
  {
   "cell_type": "code",
   "execution_count": 284,
   "id": "3eca8e19",
   "metadata": {},
   "outputs": [],
   "source": [
    "import matplotlib\n",
    "import matplotlib as mpl\n",
    "import matplotlib.pyplot as plt\n"
   ]
  },
  {
   "cell_type": "code",
   "execution_count": 285,
   "id": "cffb7b3b",
   "metadata": {},
   "outputs": [],
   "source": [
    "ratingsList = list(data[\"rating\"].unique())"
   ]
  },
  {
   "cell_type": "code",
   "execution_count": 286,
   "id": "e5d2b12a",
   "metadata": {},
   "outputs": [
    {
     "data": {
      "text/plain": [
       "['All', '13+', 'R', 'NR', '18+', '16+', '7+', 'G', 'PG', '17+']"
      ]
     },
     "execution_count": 286,
     "metadata": {},
     "output_type": "execute_result"
    }
   ],
   "source": [
    "ratingsList\n"
   ]
  },
  {
   "cell_type": "code",
   "execution_count": 287,
   "id": "880a954e",
   "metadata": {},
   "outputs": [
    {
     "name": "stdout",
     "output_type": "stream",
     "text": [
      "[[9.000e+00 1.039e+03 1.010e+02 0.000e+00 4.600e+01 3.000e+00 0.000e+00\n",
      "  0.000e+00 2.200e+01 0.000e+00]\n",
      " [8.000e+00 1.754e+03 2.090e+02 1.000e+00 1.940e+02 1.300e+01 0.000e+00\n",
      "  0.000e+00 5.700e+01 0.000e+00]\n",
      " [2.000e+00 8.000e+02 1.060e+02 0.000e+00 7.200e+01 4.000e+00 0.000e+00\n",
      "  0.000e+00 1.600e+01 0.000e+00]\n",
      " [0.000e+00 1.010e+02 1.400e+01 1.000e+00 1.000e+01 0.000e+00 0.000e+00\n",
      "  0.000e+00 6.000e+00 0.000e+00]\n",
      " [2.000e+00 8.300e+02 1.370e+02 0.000e+00 1.050e+02 4.000e+00 0.000e+00\n",
      "  0.000e+00 1.800e+01 0.000e+00]\n",
      " [3.000e+00 9.860e+02 1.270e+02 0.000e+00 1.200e+02 1.200e+01 0.000e+00\n",
      "  0.000e+00 2.400e+01 0.000e+00]\n",
      " [1.000e+00 2.370e+02 2.100e+01 0.000e+00 2.000e+01 3.000e+00 0.000e+00\n",
      "  0.000e+00 4.000e+00 0.000e+00]\n",
      " [0.000e+00 7.100e+01 1.000e+01 0.000e+00 9.000e+00 0.000e+00 0.000e+00\n",
      "  0.000e+00 1.000e+00 0.000e+00]\n",
      " [0.000e+00 1.960e+02 2.600e+01 0.000e+00 2.100e+01 0.000e+00 0.000e+00\n",
      "  0.000e+00 8.000e+00 0.000e+00]\n",
      " [0.000e+00 2.000e+00 0.000e+00 0.000e+00 0.000e+00 0.000e+00 0.000e+00\n",
      "  0.000e+00 0.000e+00 0.000e+00]]\n"
     ]
    }
   ],
   "source": [
    "print(uniqueRatings)\n"
   ]
  },
  {
   "cell_type": "code",
   "execution_count": 288,
   "id": "d58af980",
   "metadata": {},
   "outputs": [],
   "source": [
    "import seaborn as sns\n"
   ]
  },
  {
   "cell_type": "markdown",
   "id": "32ad6f1c",
   "metadata": {},
   "source": [
    "# x-axis are the real ratings while the y-axis has predicted ratings values"
   ]
  },
  {
   "cell_type": "code",
   "execution_count": 289,
   "id": "08275c76",
   "metadata": {
    "scrolled": true
   },
   "outputs": [
    {
     "data": {
      "image/png": "[encoded data removed]",
      "text/plain": [
       "<Figure size 1152x576 with 2 Axes>"
      ]
     },
     "metadata": {
      "needs_background": "light"
     },
     "output_type": "display_data"
    }
   ],
   "source": [
    "plt.figure(figsize = (16,8))\n",
    "plt.xlabel(\"Predicted Ratings\")\n",
    "plt.ylabel(\"Real Ratings\")\n",
    "ax = sns.heatmap(uniqueRatings, annot = True, xticklabels = ratingsList, yticklabels=ratingsList)\n",
    "ax.tick_params(right=False, top=True, labelright=False, bottom = \"False\", labelbottom = False, labeltop=True, labelrotation=0)\n",
    "plt.show()"
   ]
  },
  {
   "cell_type": "code",
   "execution_count": 290,
   "id": "a1e5f7fb",
   "metadata": {},
   "outputs": [
    {
     "data": {
      "text/plain": [
       "<AxesSubplot: xlabel='rating'>"
      ]
     },
     "execution_count": 290,
     "metadata": {},
     "output_type": "execute_result"
    },
    {
     "data": {
      "image/png": "[encoded data removed]",
      "text/plain": [
       "<Figure size 432x288 with 1 Axes>"
      ]
     },
     "metadata": {
      "needs_background": "light"
     },
     "output_type": "display_data"
    }
   ],
   "source": [
    "(data.groupby('rating')\n",
    "   ['title'].nunique()\n",
    "   .plot.bar()\n",
    ")"
   ]
  },
  {
   "cell_type": "code",
   "execution_count": 291,
   "id": "3a738257",
   "metadata": {},
   "outputs": [],
   "source": [
    "def getPredictedRating_1k(title):\n",
    "    givenIndex = data[data[\"title\"] == title].index[0]\n",
    "    ourCol = new[givenIndex, :]\n",
    "    needed = ourCol[1]\n",
    "    return data.iloc[needed][\"rating\"]"
   ]
  },
  {
   "cell_type": "code",
   "execution_count": 292,
   "id": "e971bf94",
   "metadata": {},
   "outputs": [
    {
     "data": {
      "application/vnd.jupyter.widget-view+json": {
       "model_id": "8e1532e74a0a46d18023ce2b25bbdfc8",
       "version_major": 2,
       "version_minor": 0
      },
      "text/plain": [
       "Pandas Apply:   0%|          | 0/7586 [00:00<?, ?it/s]"
      ]
     },
     "metadata": {},
     "output_type": "display_data"
    }
   ],
   "source": [
    "data[\"PredictedRating_1k\"] = data[\"title\"].swifter.apply(getPredictedRating_1k)"
   ]
  },
  {
   "cell_type": "code",
   "execution_count": 293,
   "id": "0f40042b",
   "metadata": {},
   "outputs": [
    {
     "data": {
      "text/html": [
       "<div>\n",
       "<style scoped>\n",
       "    .dataframe tbody tr th:only-of-type {\n",
       "        vertical-align: middle;\n",
       "    }\n",
       "\n",
       "    .dataframe tbody tr th {\n",
       "        vertical-align: top;\n",
       "    }\n",
       "\n",
       "    .dataframe thead th {\n",
       "        text-align: right;\n",
       "    }\n",
       "</style>\n",
       "<table border=\"1\" class=\"dataframe\">\n",
       "  <thead>\n",
       "    <tr style=\"text-align: right;\">\n",
       "      <th></th>\n",
       "      <th>type</th>\n",
       "      <th>title</th>\n",
       "      <th>director</th>\n",
       "      <th>cast</th>\n",
       "      <th>country</th>\n",
       "      <th>rating</th>\n",
       "      <th>duration</th>\n",
       "      <th>description</th>\n",
       "      <th>PredictedRating</th>\n",
       "      <th>PredictedRating_1k</th>\n",
       "    </tr>\n",
       "  </thead>\n",
       "  <tbody>\n",
       "    <tr>\n",
       "      <th>0</th>\n",
       "      <td>Movie</td>\n",
       "      <td>The Grand Seduction</td>\n",
       "      <td>Don McKellar</td>\n",
       "      <td>Brendan Gleeson, Taylor Kitsch, Gordon Pinsent</td>\n",
       "      <td>Canada</td>\n",
       "      <td>All</td>\n",
       "      <td>113 min</td>\n",
       "      <td>A small fishing village must procure a local d...</td>\n",
       "      <td>13+</td>\n",
       "      <td>16+</td>\n",
       "    </tr>\n",
       "    <tr>\n",
       "      <th>1</th>\n",
       "      <td>Movie</td>\n",
       "      <td>Take Care Good Night</td>\n",
       "      <td>Girish Joshi</td>\n",
       "      <td>Mahesh Manjrekar, Abhay Mahajan, Sachin Khedekar</td>\n",
       "      <td>India</td>\n",
       "      <td>13+</td>\n",
       "      <td>110 min</td>\n",
       "      <td>A Metro Family decides to fight a Cyber Crimin...</td>\n",
       "      <td>13+</td>\n",
       "      <td>16+</td>\n",
       "    </tr>\n",
       "    <tr>\n",
       "      <th>2</th>\n",
       "      <td>Movie</td>\n",
       "      <td>Secrets of Deception</td>\n",
       "      <td>Josh Webber</td>\n",
       "      <td>Tom Sizemore, Lorenzo Lamas, Robert LaSardo, R...</td>\n",
       "      <td>United States</td>\n",
       "      <td>All</td>\n",
       "      <td>74 min</td>\n",
       "      <td>After a man discovers his wife is cheating on ...</td>\n",
       "      <td>13+</td>\n",
       "      <td>16+</td>\n",
       "    </tr>\n",
       "    <tr>\n",
       "      <th>3</th>\n",
       "      <td>Movie</td>\n",
       "      <td>Pink: Staying True</td>\n",
       "      <td>Sonia Anderson</td>\n",
       "      <td>Interviews with: Pink, Adele, Beyoncé, Britney...</td>\n",
       "      <td>United States</td>\n",
       "      <td>All</td>\n",
       "      <td>69 min</td>\n",
       "      <td>Pink breaks the mold once again, bringing her ...</td>\n",
       "      <td>13+</td>\n",
       "      <td>16+</td>\n",
       "    </tr>\n",
       "    <tr>\n",
       "      <th>4</th>\n",
       "      <td>Movie</td>\n",
       "      <td>Monster Maker</td>\n",
       "      <td>Giles Foster</td>\n",
       "      <td>Harry Dean Stanton, Kieran O'Brien, George Cos...</td>\n",
       "      <td>United Kingdom</td>\n",
       "      <td>All</td>\n",
       "      <td>45 min</td>\n",
       "      <td>Teenage Matt Banting wants to work with a famo...</td>\n",
       "      <td>13+</td>\n",
       "      <td>16+</td>\n",
       "    </tr>\n",
       "    <tr>\n",
       "      <th>...</th>\n",
       "      <td>...</td>\n",
       "      <td>...</td>\n",
       "      <td>...</td>\n",
       "      <td>...</td>\n",
       "      <td>...</td>\n",
       "      <td>...</td>\n",
       "      <td>...</td>\n",
       "      <td>...</td>\n",
       "      <td>...</td>\n",
       "      <td>...</td>\n",
       "    </tr>\n",
       "    <tr>\n",
       "      <th>7581</th>\n",
       "      <td>Movie</td>\n",
       "      <td>The Man in the Hat</td>\n",
       "      <td>John-Paul Davidson, Stephen Warbeck</td>\n",
       "      <td>Ciaran Hinds, Stephen Dillane, Maïwenn</td>\n",
       "      <td>NaN</td>\n",
       "      <td>13+</td>\n",
       "      <td>96 min</td>\n",
       "      <td>The Man in the Hat journeys through France in ...</td>\n",
       "      <td>13+</td>\n",
       "      <td>16+</td>\n",
       "    </tr>\n",
       "    <tr>\n",
       "      <th>7582</th>\n",
       "      <td>Movie</td>\n",
       "      <td>River</td>\n",
       "      <td>Emily Skye</td>\n",
       "      <td>Mary Cameron Rogers, Alexandra Rose, Rob Marsh...</td>\n",
       "      <td>NaN</td>\n",
       "      <td>16+</td>\n",
       "      <td>93 min</td>\n",
       "      <td>River is a grounded Sci-Fi mystery Thriller, t...</td>\n",
       "      <td>13+</td>\n",
       "      <td>16+</td>\n",
       "    </tr>\n",
       "    <tr>\n",
       "      <th>7583</th>\n",
       "      <td>Movie</td>\n",
       "      <td>Pride Of The Bowery</td>\n",
       "      <td>Joseph H. Lewis</td>\n",
       "      <td>Leo Gorcey, Bobby Jordan</td>\n",
       "      <td>NaN</td>\n",
       "      <td>7+</td>\n",
       "      <td>60 min</td>\n",
       "      <td>New York City street principles get an East Si...</td>\n",
       "      <td>13+</td>\n",
       "      <td>16+</td>\n",
       "    </tr>\n",
       "    <tr>\n",
       "      <th>7584</th>\n",
       "      <td>Movie</td>\n",
       "      <td>Outpost</td>\n",
       "      <td>Steve Barker</td>\n",
       "      <td>Ray Stevenson, Julian Wadham, Richard Brake, M...</td>\n",
       "      <td>NaN</td>\n",
       "      <td>R</td>\n",
       "      <td>90 min</td>\n",
       "      <td>In war-torn Eastern Europe, a world-weary grou...</td>\n",
       "      <td>13+</td>\n",
       "      <td>16+</td>\n",
       "    </tr>\n",
       "    <tr>\n",
       "      <th>7585</th>\n",
       "      <td>Movie</td>\n",
       "      <td>Harry Brown</td>\n",
       "      <td>Daniel Barber</td>\n",
       "      <td>Michael Caine, Emily Mortimer, Joseph Gilgun, ...</td>\n",
       "      <td>NaN</td>\n",
       "      <td>R</td>\n",
       "      <td>103 min</td>\n",
       "      <td>Harry Brown, starring two-time Academy Award w...</td>\n",
       "      <td>13+</td>\n",
       "      <td>16+</td>\n",
       "    </tr>\n",
       "  </tbody>\n",
       "</table>\n",
       "<p>7586 rows × 10 columns</p>\n",
       "</div>"
      ],
      "text/plain": [
       "       type                 title                             director  \\\n",
       "0     Movie   The Grand Seduction                         Don McKellar   \n",
       "1     Movie  Take Care Good Night                         Girish Joshi   \n",
       "2     Movie  Secrets of Deception                          Josh Webber   \n",
       "3     Movie    Pink: Staying True                       Sonia Anderson   \n",
       "4     Movie         Monster Maker                         Giles Foster   \n",
       "...     ...                   ...                                  ...   \n",
       "7581  Movie    The Man in the Hat  John-Paul Davidson, Stephen Warbeck   \n",
       "7582  Movie                 River                           Emily Skye   \n",
       "7583  Movie   Pride Of The Bowery                      Joseph H. Lewis   \n",
       "7584  Movie               Outpost                         Steve Barker   \n",
       "7585  Movie           Harry Brown                        Daniel Barber   \n",
       "\n",
       "                                                   cast         country  \\\n",
       "0        Brendan Gleeson, Taylor Kitsch, Gordon Pinsent          Canada   \n",
       "1      Mahesh Manjrekar, Abhay Mahajan, Sachin Khedekar           India   \n",
       "2     Tom Sizemore, Lorenzo Lamas, Robert LaSardo, R...   United States   \n",
       "3     Interviews with: Pink, Adele, Beyoncé, Britney...   United States   \n",
       "4     Harry Dean Stanton, Kieran O'Brien, George Cos...  United Kingdom   \n",
       "...                                                 ...             ...   \n",
       "7581             Ciaran Hinds, Stephen Dillane, Maïwenn             NaN   \n",
       "7582  Mary Cameron Rogers, Alexandra Rose, Rob Marsh...             NaN   \n",
       "7583                           Leo Gorcey, Bobby Jordan             NaN   \n",
       "7584  Ray Stevenson, Julian Wadham, Richard Brake, M...             NaN   \n",
       "7585  Michael Caine, Emily Mortimer, Joseph Gilgun, ...             NaN   \n",
       "\n",
       "     rating duration                                        description  \\\n",
       "0       All  113 min  A small fishing village must procure a local d...   \n",
       "1       13+  110 min  A Metro Family decides to fight a Cyber Crimin...   \n",
       "2       All   74 min  After a man discovers his wife is cheating on ...   \n",
       "3       All   69 min  Pink breaks the mold once again, bringing her ...   \n",
       "4       All   45 min  Teenage Matt Banting wants to work with a famo...   \n",
       "...     ...      ...                                                ...   \n",
       "7581    13+   96 min  The Man in the Hat journeys through France in ...   \n",
       "7582    16+   93 min  River is a grounded Sci-Fi mystery Thriller, t...   \n",
       "7583     7+   60 min  New York City street principles get an East Si...   \n",
       "7584      R   90 min  In war-torn Eastern Europe, a world-weary grou...   \n",
       "7585      R  103 min  Harry Brown, starring two-time Academy Award w...   \n",
       "\n",
       "     PredictedRating PredictedRating_1k  \n",
       "0                13+                16+  \n",
       "1                13+                16+  \n",
       "2                13+                16+  \n",
       "3                13+                16+  \n",
       "4                13+                16+  \n",
       "...              ...                ...  \n",
       "7581             13+                16+  \n",
       "7582             13+                16+  \n",
       "7583             13+                16+  \n",
       "7584             13+                16+  \n",
       "7585             13+                16+  \n",
       "\n",
       "[7586 rows x 10 columns]"
      ]
     },
     "execution_count": 293,
     "metadata": {},
     "output_type": "execute_result"
    }
   ],
   "source": [
    "data"
   ]
  },
  {
   "cell_type": "code",
   "execution_count": 294,
   "id": "dc228b70",
   "metadata": {},
   "outputs": [],
   "source": [
    "onekHeatmap = np.zeros((shape, shape))"
   ]
  },
  {
   "cell_type": "code",
   "execution_count": 295,
   "id": "2df77f1a",
   "metadata": {},
   "outputs": [],
   "source": [
    "for i in range(len(data)):\n",
    "    real = data.iloc[i][\"rating\"]\n",
    "    predicted = data.iloc[i][\"PredictedRating_1k\"]\n",
    "    onekHeatmap[ourDict[real]][ourDict[predicted]] += 1"
   ]
  },
  {
   "cell_type": "code",
   "execution_count": 296,
   "id": "67596c0f",
   "metadata": {},
   "outputs": [
    {
     "data": {
      "image/png": "[encoded data removed]",
      "text/plain": [
       "<Figure size 1152x576 with 2 Axes>"
      ]
     },
     "metadata": {
      "needs_background": "light"
     },
     "output_type": "display_data"
    }
   ],
   "source": [
    "plt.figure(figsize = (16,8))\n",
    "ax = sns.heatmap(onekHeatmap, annot = True, xticklabels = ratingsList, yticklabels=ratingsList)\n",
    "ax.tick_params(right=False, top=True, labelright=False, bottom = \"False\", labelbottom = False, labeltop=True, labelrotation=0)\n",
    "plt.show()"
   ]
  },
  {
   "cell_type": "code",
   "execution_count": 298,
   "id": "877ac673",
   "metadata": {},
   "outputs": [],
   "source": [
    "from sklearn.metrics import classification_report, confusion_matrix"
   ]
  },
  {
   "cell_type": "code",
   "execution_count": 299,
   "id": "9fdfdb75",
   "metadata": {},
   "outputs": [],
   "source": [
    "c = confusion_matrix(data[\"rating\"], data[\"PredictedRating_1k\"])"
   ]
  },
  {
   "cell_type": "code",
   "execution_count": 300,
   "id": "b5572fbb",
   "metadata": {
    "scrolled": true
   },
   "outputs": [
    {
     "data": {
      "text/plain": [
       "array([[ 254, 1503,    0,  196,    0,   10,    0,    1,   62,  210],\n",
       "       [ 123,  872,    0,  120,    0,    3,    0,    0,   27,  127],\n",
       "       [   0,    2,    0,    0,    0,    0,    0,    0,    0,    0],\n",
       "       [  83,  749,    0,  107,    0,    2,    0,    0,   18,  137],\n",
       "       [  34,  205,    0,   20,    0,    1,    0,    0,    5,   21],\n",
       "       [  87,  954,    0,   48,    0,    7,    0,    0,   23,  101],\n",
       "       [   6,   65,    0,    9,    0,    0,    0,    0,    1,   10],\n",
       "       [   4,   97,    0,   10,    0,    0,    0,    1,    6,   14],\n",
       "       [  25,  168,    0,   21,    0,    0,    0,    0,   11,   26],\n",
       "       [  78,  725,    0,   72,    0,    2,    0,    0,   17,  106]])"
      ]
     },
     "execution_count": 300,
     "metadata": {},
     "output_type": "execute_result"
    }
   ],
   "source": [
    "c\n"
   ]
  },
  {
   "cell_type": "code",
   "execution_count": null,
   "id": "0314360e",
   "metadata": {},
   "outputs": [],
   "source": []
  },
  {
   "cell_type": "code",
   "execution_count": null,
   "id": "66ea54ca",
   "metadata": {},
   "outputs": [],
   "source": []
  },
  {
   "cell_type": "code",
   "execution_count": null,
   "id": "0fcde2c3",
   "metadata": {},
   "outputs": [],
   "source": []
  }
 ],
 "metadata": {
  "kernelspec": {
   "display_name": "ADSFinal",
   "language": "python",
   "name": "adsfinal"
  },
  "language_info": {
   "codemirror_mode": {
    "name": "ipython",
    "version": 3
   },
   "file_extension": ".py",
   "mimetype": "text/x-python",
   "name": "python",
   "nbconvert_exporter": "python",
   "pygments_lexer": "ipython3",
   "version": "3.9.15"
  }
 },
 "nbformat": 4,
 "nbformat_minor": 5
}
